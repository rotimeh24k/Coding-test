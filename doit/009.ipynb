{
 "cells": [
  {
   "cell_type": "markdown",
   "metadata": {},
   "source": [
    "# DNA 비밀번호 (백준 12891)"
   ]
  },
  {
   "cell_type": "code",
   "execution_count": 13,
   "metadata": {},
   "outputs": [],
   "source": [
    "checkList = [0] * 4 #순서대로 A C G T\n",
    "myList = [0] * 4 #순서대로 A C G T\n",
    "checkNum = 0"
   ]
  },
  {
   "cell_type": "code",
   "execution_count": 14,
   "metadata": {},
   "outputs": [],
   "source": [
    "def add(c):\n",
    "    global myList, checkList, checkNum\n",
    "    if c == \"A\":\n",
    "        myList[0] += 1\n",
    "        if myList[0] == checkList[0]:\n",
    "            checkNum += 1\n",
    "    elif c == \"C\":\n",
    "        myList[1] += 1\n",
    "        if myList[1] == checkList[1]:\n",
    "            checkNum += 1\n",
    "    elif c == \"G\":\n",
    "        myList[2] += 1\n",
    "        if myList[2] == checkList[2]:\n",
    "            checkNum += 1\n",
    "    elif c == \"T\":\n",
    "        myList[3] += 1\n",
    "        if myList[3] == checkList[3]:\n",
    "            checkNum += 1\n",
    "\n",
    "def remove(c):\n",
    "    global myList, checkList, checkNum\n",
    "    if c == \"A\":\n",
    "        if myList[0] == checkList[0]:\n",
    "            checkNum -= 1\n",
    "        myList[0] -= 1\n",
    "    elif c == \"C\":\n",
    "        if myList[1] == checkList[1]:\n",
    "            checkNum -= 1\n",
    "        myList[1] -= 1\n",
    "    elif c == \"G\":\n",
    "        if myList[2] == checkList[2]:\n",
    "            checkNum -= 1\n",
    "        myList[2] -= 1\n",
    "    elif c == \"T\":\n",
    "        if myList[3] == checkList[3]:\n",
    "            checkNum -= 1\n",
    "        myList[3] -= 1"
   ]
  },
  {
   "cell_type": "code",
   "execution_count": 15,
   "metadata": {},
   "outputs": [
    {
     "name": "stdout",
     "output_type": "stream",
     "text": [
      "2\n"
     ]
    }
   ],
   "source": [
    "S, P = list(map(int, input().split())) #문자열 길이, 부분문자열 길이\n",
    "Count = 0 #해당하는 문자열 개수\n",
    "A = list(input()) #문자열\n",
    "checkList = list(map(int, input().split()))\n",
    "\n",
    "for i in range(4): #Checklist 값이 0인경우 이미 충족하므로 1을 더해줌\n",
    "    if checkList[i] == 0:\n",
    "        checkNum += 1\n",
    "\n",
    "for i in range(P): #초기 부분 문자열\n",
    "    add(A[i])\n",
    "\n",
    "if checkNum == 4:\n",
    "    Count += 1\n",
    "\n",
    "for i in range(P, S):\n",
    "    j = i - P\n",
    "    add(A[i])\n",
    "    remove(A[j])\n",
    "    if checkNum == 4:\n",
    "        Count += 1\n",
    "\n",
    "print(Count)"
   ]
  },
  {
   "cell_type": "code",
   "execution_count": null,
   "metadata": {},
   "outputs": [],
   "source": []
  }
 ],
 "metadata": {
  "kernelspec": {
   "display_name": "codingtest",
   "language": "python",
   "name": "python3"
  },
  "language_info": {
   "codemirror_mode": {
    "name": "ipython",
    "version": 3
   },
   "file_extension": ".py",
   "mimetype": "text/x-python",
   "name": "python",
   "nbconvert_exporter": "python",
   "pygments_lexer": "ipython3",
   "version": "3.12.7"
  }
 },
 "nbformat": 4,
 "nbformat_minor": 2
}
