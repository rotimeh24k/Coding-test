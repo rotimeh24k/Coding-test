{
 "cells": [
  {
   "cell_type": "markdown",
   "metadata": {},
   "source": [
    "# 구간 합 구하기 2(백준 11659)"
   ]
  },
  {
   "cell_type": "markdown",
   "metadata": {},
   "source": [
    "수 N개가 주어졌을 때, i번째 수부터 j번째 수까지 합을 구하는 프로그램을 작성하시오."
   ]
  },
  {
   "cell_type": "markdown",
   "metadata": {},
   "source": [
    "### 문제\n",
    "수 N개가 주어졌을 때, i번째 수부터 j번째 수까지 합을 구하는 프로그램을 작성하시오."
   ]
  },
  {
   "cell_type": "markdown",
   "metadata": {},
   "source": [
    "### 입력\n",
    "첫째 줄에 수의 개수 N과 합을 구해야 하는 횟수 M이 주어진다. 둘째 줄에는 N개의 수가 주어진다. 수는 1,000보다 작거나 같은 자연수이다. 셋째 줄부터 M개의 줄에는 합을 구해야 하는 구간 i와 j가 주어진다."
   ]
  },
  {
   "cell_type": "markdown",
   "metadata": {},
   "source": [
    "### 출력\n",
    "총 M개의 줄에 입력으로 주어진 i번째 수부터 j번째 수까지 합을 출력한다.\n",
    "\n",
    "### 제한\n",
    "- 1 ≤ N ≤ 100,000\n",
    "- 1 ≤ M ≤ 100,000\n",
    "- 1 ≤ i ≤ j ≤ N"
   ]
  },
  {
   "cell_type": "code",
   "execution_count": 1,
   "metadata": {},
   "outputs": [
    {
     "ename": "ValueError",
     "evalue": "not enough values to unpack (expected 2, got 0)",
     "output_type": "error",
     "traceback": [
      "\u001b[0;31m---------------------------------------------------------------------------\u001b[0m",
      "\u001b[0;31mValueError\u001b[0m                                Traceback (most recent call last)",
      "Cell \u001b[0;32mIn[1], line 1\u001b[0m\n\u001b[0;32m----> 1\u001b[0m suNo, quizNo \u001b[38;5;241m=\u001b[39m \u001b[38;5;28mmap\u001b[39m(\u001b[38;5;28mint\u001b[39m, \u001b[38;5;28minput\u001b[39m()\u001b[38;5;241m.\u001b[39msplit())\n\u001b[1;32m      2\u001b[0m \u001b[38;5;66;03m#input문자열을 받은 후 split하여 공백기준으로 list형태로 만듬\u001b[39;00m\n\u001b[1;32m      3\u001b[0m \u001b[38;5;66;03m#map을 활용하여 list의 각 부분을 int형으로 형변환\u001b[39;00m\n\u001b[1;32m      5\u001b[0m numbers \u001b[38;5;241m=\u001b[39m \u001b[38;5;28mmap\u001b[39m(\u001b[38;5;28mint\u001b[39m, \u001b[38;5;28minput\u001b[39m()\u001b[38;5;241m.\u001b[39msplit())\n",
      "\u001b[0;31mValueError\u001b[0m: not enough values to unpack (expected 2, got 0)"
     ]
    }
   ],
   "source": [
    "suNo, quizNo = map(int, input().split())\n",
    "#input문자열을 받은 후 split하여 공백기준으로 list형태로 만듬\n",
    "#map을 활용하여 list의 각 부분을 int형으로 형변환\n",
    "\n",
    "numbers = map(int, input().split())\n",
    "prefix_sum = [0]\n",
    "temp = 0\n",
    "\n",
    "for i in numbers:\n",
    "    temp = temp + i\n",
    "    prefix_sum.append(temp)\n",
    "\n",
    "for i in range(quizNo):\n",
    "    s, e = map(int ,input().split())\n",
    "    print(prefix_sum[e] - prefix_sum[s - 1])"
   ]
  },
  {
   "cell_type": "code",
   "execution_count": null,
   "metadata": {},
   "outputs": [],
   "source": []
  }
 ],
 "metadata": {
  "kernelspec": {
   "display_name": "codingtest",
   "language": "python",
   "name": "python3"
  },
  "language_info": {
   "codemirror_mode": {
    "name": "ipython",
    "version": 3
   },
   "file_extension": ".py",
   "mimetype": "text/x-python",
   "name": "python",
   "nbconvert_exporter": "python",
   "pygments_lexer": "ipython3",
   "version": "3.12.7"
  }
 },
 "nbformat": 4,
 "nbformat_minor": 2
}
