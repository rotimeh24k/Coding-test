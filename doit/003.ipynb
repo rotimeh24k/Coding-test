{
 "cells": [
  {
   "cell_type": "markdown",
   "metadata": {},
   "source": [
    "# 구간 합 구하기 4(백준 11659)"
   ]
  },
  {
   "cell_type": "markdown",
   "metadata": {},
   "source": [
    "수 N개가 주어졌을 때, i번째 수부터 j번째 수까지 합을 구하는 프로그램을 작성하시오."
   ]
  },
  {
   "cell_type": "markdown",
   "metadata": {},
   "source": [
    "### 문제\n",
    "수 N개가 주어졌을 때, i번째 수부터 j번째 수까지 합을 구하는 프로그램을 작성하시오."
   ]
  },
  {
   "cell_type": "markdown",
   "metadata": {},
   "source": [
    "### 입력\n",
    "첫째 줄에 수의 개수 N과 합을 구해야 하는 횟수 M이 주어진다. 둘째 줄에는 N개의 수가 주어진다. 수는 1,000보다 작거나 같은 자연수이다. 셋째 줄부터 M개의 줄에는 합을 구해야 하는 구간 i와 j가 주어진다."
   ]
  },
  {
   "cell_type": "markdown",
   "metadata": {},
   "source": [
    "### 출력\n",
    "총 M개의 줄에 입력으로 주어진 i번째 수부터 j번째 수까지 합을 출력한다.\n",
    "\n",
    "### 제한\n",
    "- 1 ≤ N ≤ 100,000\n",
    "- 1 ≤ M ≤ 100,000\n",
    "- 1 ≤ i ≤ j ≤ N"
   ]
  },
  {
   "cell_type": "code",
   "execution_count": 4,
   "metadata": {},
   "outputs": [],
   "source": [
    "import sys\n",
    "input = sys.stdin.readline #그냥 input사용보다 빠르다고 함\n",
    "\n",
    "suNo, quizNo = map(int, input().split())\n",
    "#input문자열을 받은 후 split하여 공백기준으로 list형태로 만듬\n",
    "#map을 활용하여 list의 각 부분을 int형으로 형변환\n",
    "\n",
    "numbers = map(int, input().split())\n",
    "prefix_sum = [0]\n",
    "temp = 0\n",
    "\n",
    "for i in numbers:\n",
    "    temp = temp + i\n",
    "    prefix_sum.append(temp)\n",
    "\n",
    "for i in range(quizNo):\n",
    "    s, e = map(int ,input().split())\n",
    "    print(prefix_sum[e] - prefix_sum[s - 1])"
   ]
  }
 ],
 "metadata": {
  "kernelspec": {
   "display_name": "codingtest",
   "language": "python",
   "name": "python3"
  },
  "language_info": {
   "codemirror_mode": {
    "name": "ipython",
    "version": 3
   },
   "file_extension": ".py",
   "mimetype": "text/x-python",
   "name": "python",
   "nbconvert_exporter": "python",
   "pygments_lexer": "ipython3",
   "version": "3.12.6"
  }
 },
 "nbformat": 4,
 "nbformat_minor": 2
}
