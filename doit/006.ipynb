{
 "cells": [
  {
   "cell_type": "markdown",
   "metadata": {},
   "source": [
    "# 연속된 자연수의 합 구기(백준 2018)"
   ]
  },
  {
   "cell_type": "code",
   "execution_count": null,
   "metadata": {},
   "outputs": [
    {
     "name": "stdout",
     "output_type": "stream",
     "text": [
      "4\n"
     ]
    }
   ],
   "source": [
    "n = int(input())\n",
    "count = 1 #연속된 자연수의 합이 n인 개수, 자기자신 + 1\n",
    "start_index = 1\n",
    "end_index = 1\n",
    "sum = 1\n",
    "\n",
    "#주의점 : sum에 index 숫자 더하는 것과 인덱스를 더해주는 것 순서 잘 생각하기.\n",
    "while end_index != n:\n",
    "    if sum > n:\n",
    "        sum = sum - start_index\n",
    "        start_index = start_index + 1\n",
    "    elif sum < n:\n",
    "        end_index = end_index + 1\n",
    "        sum = sum + end_index\n",
    "    else:\n",
    "        end_index = end_index + 1\n",
    "        sum = sum + end_index\n",
    "        count = count + 1\n",
    "\n",
    "\n",
    "print(count)"
   ]
  },
  {
   "cell_type": "code",
   "execution_count": null,
   "metadata": {},
   "outputs": [],
   "source": []
  }
 ],
 "metadata": {
  "kernelspec": {
   "display_name": "codingtest",
   "language": "python",
   "name": "python3"
  },
  "language_info": {
   "codemirror_mode": {
    "name": "ipython",
    "version": 3
   },
   "file_extension": ".py",
   "mimetype": "text/x-python",
   "name": "python",
   "nbconvert_exporter": "python",
   "pygments_lexer": "ipython3",
   "version": "3.12.7"
  }
 },
 "nbformat": 4,
 "nbformat_minor": 2
}
