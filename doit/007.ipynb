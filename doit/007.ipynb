{
 "cells": [
  {
   "cell_type": "markdown",
   "metadata": {},
   "source": [
    "# 주몽의 명령(백준 1940)"
   ]
  },
  {
   "cell_type": "code",
   "execution_count": 12,
   "metadata": {},
   "outputs": [
    {
     "name": "stdout",
     "output_type": "stream",
     "text": [
      "2\n"
     ]
    }
   ],
   "source": [
    "n = int(input())\n",
    "m = int(input())\n",
    "L = list(map(int, input().split()))\n",
    "L.sort() # 정렬\n",
    "\n",
    "count = 0\n",
    "\n",
    "# 시작, 마지막 포인터 위치\n",
    "s_i = 0\n",
    "n_i = n - 1\n",
    "\n",
    "# 합이 크거나 작거나 같은 경우\n",
    "while s_i < n_i:\n",
    "    if m > (L[s_i] + L[n_i]):\n",
    "        s_i = s_i + 1\n",
    "    \n",
    "    elif m < (L[s_i] + L[n_i]):\n",
    "        n_i = n_i - 1\n",
    "    \n",
    "    else:\n",
    "        count = count + 1\n",
    "        s_i = s_i + 1\n",
    "        n_i = n_i - 1\n",
    "\n",
    "print(count)"
   ]
  },
  {
   "cell_type": "code",
   "execution_count": null,
   "metadata": {},
   "outputs": [],
   "source": []
  }
 ],
 "metadata": {
  "kernelspec": {
   "display_name": "codingtest",
   "language": "python",
   "name": "python3"
  },
  "language_info": {
   "codemirror_mode": {
    "name": "ipython",
    "version": 3
   },
   "file_extension": ".py",
   "mimetype": "text/x-python",
   "name": "python",
   "nbconvert_exporter": "python",
   "pygments_lexer": "ipython3",
   "version": "3.12.7"
  }
 },
 "nbformat": 4,
 "nbformat_minor": 2
}
