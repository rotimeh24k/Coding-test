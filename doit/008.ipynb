{
 "cells": [
  {
   "cell_type": "markdown",
   "metadata": {
    "vscode": {
     "languageId": "plaintext"
    }
   },
   "source": [
    "# 좋은 수 구하기(백준 1253)"
   ]
  },
  {
   "cell_type": "code",
   "execution_count": 5,
   "metadata": {},
   "outputs": [
    {
     "name": "stdout",
     "output_type": "stream",
     "text": [
      "4\n"
     ]
    }
   ],
   "source": [
    "N = int(input()) # 개수\n",
    "L = list(map(int, input().split())) # 숫자 리스트\n",
    "count = 0 # 좋은 수\n",
    "\n",
    "L.sort() #정렬된 리스트\n",
    "\n",
    "for k in range(N):\n",
    "    i = 0\n",
    "    j = N - 1\n",
    "    while i < j:\n",
    "        if (L[i] + L[j]) > L[k]:\n",
    "            j -= 1\n",
    "            \n",
    "        elif (L[i] + L[j]) < L[k]:\n",
    "            i += 1\n",
    "       \n",
    "        else: \n",
    "            if i != k and j != k: # i, j 모두 k가 아닌경우  \n",
    "                count += 1\n",
    "                break # 맞는경우 루프 탈출\n",
    "            elif i == k:\n",
    "                i += 1\n",
    "            elif j == k:\n",
    "                j -= 1\n",
    "\n",
    "print(count)"
   ]
  },
  {
   "cell_type": "code",
   "execution_count": null,
   "metadata": {},
   "outputs": [],
   "source": []
  }
 ],
 "metadata": {
  "kernelspec": {
   "display_name": "codingtest",
   "language": "python",
   "name": "python3"
  },
  "language_info": {
   "codemirror_mode": {
    "name": "ipython",
    "version": 3
   },
   "file_extension": ".py",
   "mimetype": "text/x-python",
   "name": "python",
   "nbconvert_exporter": "python",
   "pygments_lexer": "ipython3",
   "version": "3.12.7"
  }
 },
 "nbformat": 4,
 "nbformat_minor": 2
}
