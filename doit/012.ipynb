{
 "cells": [
  {
   "cell_type": "markdown",
   "metadata": {},
   "source": [
    "# 오큰수 구하기(백준 17298)"
   ]
  },
  {
   "cell_type": "code",
   "execution_count": 17,
   "metadata": {},
   "outputs": [
    {
     "name": "stdout",
     "output_type": "stream",
     "text": [
      "4 7 7 -1 \n"
     ]
    }
   ],
   "source": [
    "C = int(input())\n",
    "N = list(map(int, input().split()))\n",
    "\n",
    "stack = []\n",
    "result = [0]*C\n",
    "\n",
    "for i in range(C):\n",
    "    while stack and N[stack[-1]] < N[i]:\n",
    "        result[stack.pop()] = N[i]\n",
    "    stack.append(i)\n",
    "        \n",
    "while stack:\n",
    "    result[stack.pop()] = -1\n",
    "\n",
    "s_r = \"\"\n",
    "\n",
    "for i in range(C):\n",
    "    s_r += str(result[i]) + \" \"\n",
    "\n",
    "print(s_r)"
   ]
  },
  {
   "cell_type": "code",
   "execution_count": null,
   "metadata": {},
   "outputs": [],
   "source": []
  }
 ],
 "metadata": {
  "kernelspec": {
   "display_name": "codingtest",
   "language": "python",
   "name": "python3"
  },
  "language_info": {
   "codemirror_mode": {
    "name": "ipython",
    "version": 3
   },
   "file_extension": ".py",
   "mimetype": "text/x-python",
   "name": "python",
   "nbconvert_exporter": "python",
   "pygments_lexer": "ipython3",
   "version": "3.12.7"
  }
 },
 "nbformat": 4,
 "nbformat_minor": 2
}
