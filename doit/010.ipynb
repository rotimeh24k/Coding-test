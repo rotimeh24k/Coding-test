{
 "cells": [
  {
   "cell_type": "markdown",
   "metadata": {},
   "source": [
    "# 최솟값 찾기 (백준 11003)"
   ]
  },
  {
   "cell_type": "code",
   "execution_count": null,
   "metadata": {},
   "outputs": [
    {
     "name": "stdout",
     "output_type": "stream",
     "text": [
      "1 1 1 2 2 "
     ]
    }
   ],
   "source": [
    "from collections import deque\n",
    "N, L = map(int, input().split())\n",
    "arr = list(map(int, input().split()))\n",
    "\n",
    "dq = deque()\n",
    "result = []\n",
    "\n",
    "for i in range(N):\n",
    "    while dq and dq[-1][0] > arr[i]: #덱의 맨 뒤 요소가 현재 배열의 원소 보다 크다면 제거\n",
    "            dq.pop()\n",
    "    \n",
    "    dq.append((arr[i], i)) #튜플 (인덱스, 값)\n",
    "\n",
    "    if dq[0][1] <= i - L: #덱의 맨 앞 원소의 인덱스, 윈도우 범위를 벗어난다면 제거\n",
    "          dq.popleft()\n",
    "\n",
    "    print(dq[0][0], end=\" \")"
   ]
  },
  {
   "cell_type": "code",
   "execution_count": null,
   "metadata": {},
   "outputs": [],
   "source": []
  }
 ],
 "metadata": {
  "kernelspec": {
   "display_name": "codingtest",
   "language": "python",
   "name": "python3"
  },
  "language_info": {
   "codemirror_mode": {
    "name": "ipython",
    "version": 3
   },
   "file_extension": ".py",
   "mimetype": "text/x-python",
   "name": "python",
   "nbconvert_exporter": "python",
   "pygments_lexer": "ipython3",
   "version": "3.12.7"
  }
 },
 "nbformat": 4,
 "nbformat_minor": 2
}
