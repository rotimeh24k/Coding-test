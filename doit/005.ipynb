{
 "cells": [
  {
   "cell_type": "markdown",
   "metadata": {},
   "source": [
    "# 나머지 합 구하기(백준 10986)"
   ]
  },
  {
   "cell_type": "code",
   "execution_count": 13,
   "metadata": {},
   "outputs": [
    {
     "name": "stdout",
     "output_type": "stream",
     "text": [
      "7\n"
     ]
    }
   ],
   "source": [
    "n, m = map(int, input().split()) \n",
    "\n",
    "A = list(map(int, input().split())) #원본\n",
    "S = [] #합배열\n",
    "\n",
    "C = [0]*m \n",
    "#같은 나머지의 인덱스를 카운트, m보다 큰 값을 가질 수는 없으므로 m만큼 초기화\n",
    "\n",
    "sum = 0\n",
    "result = 0\n",
    "\n",
    "for i in A:\n",
    "    sum = sum + i\n",
    "    S.append(sum)\n",
    "\n",
    "\n",
    "for i in S:\n",
    "    temp = i % m\n",
    "    if temp == 0:\n",
    "        result += 1\n",
    "    \n",
    "    C[temp] += 1\n",
    "    \n",
    "\n",
    "for i in range(m):\n",
    "    if C[i] > 1:\n",
    "        result += (C[i] * (C[i] - 1) // 2) # 나누기 연산 시 float 형태가 되는 것 조심\n",
    "\n",
    "print(result)"
   ]
  },
  {
   "cell_type": "code",
   "execution_count": null,
   "metadata": {},
   "outputs": [],
   "source": []
  },
  {
   "cell_type": "markdown",
   "metadata": {},
   "source": []
  }
 ],
 "metadata": {
  "kernelspec": {
   "display_name": "codingtest",
   "language": "python",
   "name": "python3"
  },
  "language_info": {
   "codemirror_mode": {
    "name": "ipython",
    "version": 3
   },
   "file_extension": ".py",
   "mimetype": "text/x-python",
   "name": "python",
   "nbconvert_exporter": "python",
   "pygments_lexer": "ipython3",
   "version": "3.12.7"
  }
 },
 "nbformat": 4,
 "nbformat_minor": 2
}
