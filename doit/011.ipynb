{
 "cells": [
  {
   "cell_type": "markdown",
   "metadata": {},
   "source": [
    "# 스택으로 수열 만들기(백준 1874)"
   ]
  },
  {
   "cell_type": "code",
   "execution_count": null,
   "metadata": {},
   "outputs": [
    {
     "name": "stdout",
     "output_type": "stream",
     "text": [
      "+\n",
      "+\n",
      "+\n",
      "+\n",
      "-\n",
      "-\n",
      "+\n",
      "+\n",
      "-\n",
      "+\n",
      "+\n",
      "-\n",
      "-\n",
      "-\n",
      "-\n",
      "-\n",
      "\n"
     ]
    }
   ],
   "source": [
    "C = int(input())\n",
    "L = [0] * C #리스트\n",
    "\n",
    "for i in range(C): #숫자 입력 빋기\n",
    "    L[i] = int(input())\n",
    "\n",
    "stack = []\n",
    "nOfStack = 1 \n",
    "answer = \"\"\n",
    "result = True\n",
    "\n",
    "for i in range(C):\n",
    "    N = L[i] # 배열 숫자\n",
    "    \n",
    "    # 오름차순 자연수 보다, 배열 숫자가 큰경우\n",
    "    if N >= nOfStack:\n",
    "        while N >= nOfStack:\n",
    "            stack.append(nOfStack)\n",
    "            nOfStack += 1\n",
    "            answer = answer + \"+\\n\"\n",
    "        stack.pop()\n",
    "        answer = answer + \"-\\n\"\n",
    "    \n",
    "    # 오름차순 자연수 보다, 배열 숫자가 작은경우\n",
    "    elif N < nOfStack:\n",
    "        n = stack.pop()\n",
    "            \n",
    "        if n != N:\n",
    "            result = False\n",
    "        else:\n",
    "            answer = answer + \"-\\n\"\n",
    "\n",
    "if result == True:\n",
    "    print(answer)\n",
    "else:\n",
    "    print(\"No\")"
   ]
  },
  {
   "cell_type": "code",
   "execution_count": null,
   "metadata": {},
   "outputs": [],
   "source": []
  },
  {
   "cell_type": "code",
   "execution_count": null,
   "metadata": {},
   "outputs": [],
   "source": []
  }
 ],
 "metadata": {
  "kernelspec": {
   "display_name": "codingtest",
   "language": "python",
   "name": "python3"
  },
  "language_info": {
   "codemirror_mode": {
    "name": "ipython",
    "version": 3
   },
   "file_extension": ".py",
   "mimetype": "text/x-python",
   "name": "python",
   "nbconvert_exporter": "python",
   "pygments_lexer": "ipython3",
   "version": "3.12.7"
  }
 },
 "nbformat": 4,
 "nbformat_minor": 2
}
