{
 "cells": [
  {
   "cell_type": "markdown",
   "metadata": {},
   "source": [
    "# 구간 합 구하기 2(백준 11660)"
   ]
  },
  {
   "cell_type": "code",
   "execution_count": 9,
   "metadata": {},
   "outputs": [
    {
     "name": "stdout",
     "output_type": "stream",
     "text": [
      "[[0, 0, 0], [0, 1, 2], [0, 3, 4]]\n",
      "1\n",
      "10\n"
     ]
    }
   ],
   "source": [
    "n, m = map(int, input().split())\n",
    "\n",
    "num_list = [[0] * (n + 1)] # 0을 n+1개 반복한 1개의 행을 가진 2차원 리스트\n",
    "sum_list = [[0] * (n + 1) for _ in range(n+1)]\n",
    "# 0으로 채워진 (n + 1) * (n + 1) 행렬\n",
    "\n",
    "for i in range(n): #초기 리스트\n",
    "    row = [0] + list(map(int, input().split()))\n",
    "    num_list.append(row)\n",
    "\n",
    "\n",
    "print(num_list)\n",
    "\n",
    "for i in range(1, n+1): #구간 합 리스트\n",
    "    for j in range(1, n+1):\n",
    "        sum_list[i][j] = sum_list[i-1][j] + sum_list[i][j-1] - sum_list[i-1][j-1] + num_list[i][j]\n",
    "\n",
    "\n",
    "for _ in range(m):\n",
    "    x1, y1, x2, y2 = map(int, input().split())\n",
    "\n",
    "    result = sum_list[x2][y2] - sum_list[x2][y1-1] - sum_list[x1-1][y2] + sum_list[x1-1][y1-1]\n",
    "    print(result)"
   ]
  },
  {
   "cell_type": "code",
   "execution_count": null,
   "metadata": {},
   "outputs": [],
   "source": []
  },
  {
   "cell_type": "markdown",
   "metadata": {},
   "source": []
  }
 ],
 "metadata": {
  "kernelspec": {
   "display_name": "codingtest",
   "language": "python",
   "name": "python3"
  },
  "language_info": {
   "codemirror_mode": {
    "name": "ipython",
    "version": 3
   },
   "file_extension": ".py",
   "mimetype": "text/x-python",
   "name": "python",
   "nbconvert_exporter": "python",
   "pygments_lexer": "ipython3",
   "version": "3.12.7"
  }
 },
 "nbformat": 4,
 "nbformat_minor": 2
}
